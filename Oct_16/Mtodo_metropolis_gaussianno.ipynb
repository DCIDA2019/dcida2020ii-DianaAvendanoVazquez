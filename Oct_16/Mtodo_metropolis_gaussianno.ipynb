{
 "cells": [
  {
   "cell_type": "markdown",
   "metadata": {},
   "source": [
    "# Pre-machine learning"
   ]
  },
  {
   "cell_type": "markdown",
   "metadata": {},
   "source": [
    "# Likelihood - Método metrópolis\n",
    "\n",
    "Usando los mismos datos anteriores ahora intentaremos encontrar la recta más acercada con el método de metrópolis"
   ]
  },
  {
   "cell_type": "code",
   "execution_count": 36,
   "metadata": {},
   "outputs": [],
   "source": [
    "import numpy as np\n",
    "import pandas as pd\n",
    "import math as m\n",
    "import matplotlib.pyplot as plt\n",
    "import pickle"
   ]
  },
  {
   "cell_type": "code",
   "execution_count": 40,
   "metadata": {},
   "outputs": [],
   "source": [
    "#datos proporcionados por la maestra, son 3 columnas, x, y, error de y\n",
    "#La columna \"error de y\" nos servirá para la distribución chi^2\n",
    "\n",
    "data = np.loadtxt('data_gaussiano.dat') \n",
    "#data"
   ]
  },
  {
   "cell_type": "code",
   "execution_count": 42,
   "metadata": {},
   "outputs": [
    {
     "data": {
      "image/png": "[encoded data removed]",
      "text/plain": [
       "<Figure size 432x288 with 1 Axes>"
      ]
     },
     "metadata": {},
     "output_type": "display_data"
    },
    {
     "data": {
      "image/png": "[encoded data removed]",
      "text/plain": [
       "<Figure size 432x288 with 1 Axes>"
      ]
     },
     "metadata": {},
     "output_type": "display_data"
    }
   ],
   "source": [
    "DesvEst = 3\n",
    "mean = 20\n",
    "\n",
    "x = data[0,:]\n",
    "y = data[1,:]\n",
    "\n",
    "#print(len(x))\n",
    "#print(y)\n",
    "\n",
    "n = len(x) #Tamaño de  nuestros vectores\n",
    "\n",
    "#x_avrg = x.mean() \n",
    "#y_bar = y.mean()\n",
    "a = 30 #numero de barras para el histograma\n",
    "plt.hist(x,a,color ='forestgreen')\n",
    "plt.ylabel('no. de muestras')\n",
    "plt.title('histograma de x')\n",
    "plt.show()\n",
    "\n",
    "plt.hist(y,a)\n",
    "plt.ylabel('no. de muestras')\n",
    "plt.title('histograma de y')\n",
    "plt.show()"
   ]
  },
  {
   "cell_type": "code",
   "execution_count": 5,
   "metadata": {},
   "outputs": [],
   "source": [
    "\"\"\"\"Primero vamos a definir una función de una recta.\n",
    "Nuestro propósito principal es encontrar los coeficientes m y b correctos tales que se ajustan a la solución obtenida en el\n",
    "ejercicio pasado.\n",
    "Vamos a conocer todos los m y b posibles que se acerquen a la solución ideal.\"\"\"\n",
    "\n",
    "n_pasos = 1000 #número de iteraciones que vamos a realizar nuestro experimento, mientras más grande más probable es que encontremos los m y b correctos"
   ]
  },
  {
   "cell_type": "code",
   "execution_count": 44,
   "metadata": {},
   "outputs": [
    {
     "ename": "SyntaxError",
     "evalue": "can't assign to function call (<ipython-input-44-14b565e91f36>, line 15)",
     "output_type": "error",
     "traceback": [
      "\u001b[1;36m  File \u001b[1;32m\"<ipython-input-44-14b565e91f36>\"\u001b[1;36m, line \u001b[1;32m15\u001b[0m\n\u001b[1;33m    np.log(L) = np.log(L) + np.log(f(x[i],DesviacionEstandar,average))\u001b[0m\n\u001b[1;37m    ^\u001b[0m\n\u001b[1;31mSyntaxError\u001b[0m\u001b[1;31m:\u001b[0m can't assign to function call\n"
     ]
    }
   ],
   "source": [
    "#definimos la función con la que aproximaremos nuestro likelihood, en este caso es una func. gaussiana\n",
    "def f(x,DesviacionEstandar,xAverage):\n",
    "    f = 1\n",
    "    n = len(x)\n",
    "    A = (2*np.pi*DesviacionEstandar)**(-1/2) #constante\n",
    "    for i in range(n):\n",
    "        f = A*f*(np.exp(-(1/(2*(DesviacionEstandar**2)))*(x[i] + xAverage)**2))\n",
    "    return f\n",
    "\n",
    "#definimos una función para el likelihood\n",
    "def Likelihood(x,DesviacionEstandar,average):\n",
    "    L=2\n",
    "    n = len(x)\n",
    "    for i in range(n):\n",
    "        np.log(L) = np.log(L) + np.log(f(x[i],DesviacionEstandar,average))\n",
    "    return L\n"
   ]
  },
  {
   "cell_type": "code",
   "execution_count": 7,
   "metadata": {},
   "outputs": [
    {
     "ename": "SyntaxError",
     "evalue": "invalid syntax (<ipython-input-7-477494c11c15>, line 18)",
     "output_type": "error",
     "traceback": [
      "\u001b[1;36m  File \u001b[1;32m\"<ipython-input-7-477494c11c15>\"\u001b[1;36m, line \u001b[1;32m18\u001b[0m\n\u001b[1;33m    if L_chido >\u001b[0m\n\u001b[1;37m                ^\u001b[0m\n\u001b[1;31mSyntaxError\u001b[0m\u001b[1;31m:\u001b[0m invalid syntax\n"
     ]
    }
   ],
   "source": [
    "\"\"\"Aquí vamos a comenzar a hacer iteraciones de los valores de m y de b para encontrar el que se acerque más a la línea ideal.\n",
    "Para esto comenzaremos en los 'm' y 'b' que fijamos anteriormente y le añadiremos un valor ALEATORIO hacia el cual\n",
    "se pueda mover de manera que se acerque a la solución más acertada\"\"\"\n",
    "\n",
    "\n",
    "\n",
    "for i in range(1,n_pasos):\n",
    "    m_rnd = np.random.rand(1) -0.5  #m aleatorios\n",
    "    b_rnd = np.random.rand(1) - 0.5 #b aleatorios\n",
    "    #el 0.5 es por mis huevos para que también nos den número negativos\n",
    "    \n",
    "    m_prueba = m[i-1] + m_rnd  #aquí guardamos moentáneamente 'm'\n",
    "    b_prueba = b[i-1] + b_rnd #aquí guardamos moentáneamente 'b'\n",
    "    \n",
    "    f(x,m_prueba,b_prueba)\n",
    "    L_chido = Likelihood(y,f,y_err)\n",
    "    \n",
    "    if L_chido >\n",
    "    \n",
    "#m\n",
    "\n",
    "#b"
   ]
  }
 ],
 "metadata": {
  "kernelspec": {
   "display_name": "Python 3",
   "language": "python",
   "name": "python3"
  },
  "language_info": {
   "codemirror_mode": {
    "name": "ipython",
    "version": 3
   },
   "file_extension": ".py",
   "mimetype": "text/x-python",
   "name": "python",
   "nbconvert_exporter": "python",
   "pygments_lexer": "ipython3",
   "version": "3.6.5"
  }
 },
 "nbformat": 4,
 "nbformat_minor": 2
}
