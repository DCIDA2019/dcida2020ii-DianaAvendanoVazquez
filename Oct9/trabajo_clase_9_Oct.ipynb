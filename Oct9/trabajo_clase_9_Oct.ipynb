{
 "cells": [
  {
   "cell_type": "markdown",
   "metadata": {},
   "source": [
    "# Pre-machine learning"
   ]
  },
  {
   "cell_type": "code",
   "execution_count": 79,
   "metadata": {},
   "outputs": [
    {
     "name": "stdout",
     "output_type": "stream",
     "text": [
      "Once deleted, variables cannot be recovered. Proceed (y/[n])? y\n"
     ]
    }
   ],
   "source": [
    "#%reset"
   ]
  },
  {
   "cell_type": "markdown",
   "metadata": {},
   "source": [
    "Comenzamos con una serie pequeña de datos proporcionados por la maestra. Nuestro objetivo es que de un connjunto de datos obtengamos una linealización de nuestros datos."
   ]
  },
  {
   "cell_type": "code",
   "execution_count": 80,
   "metadata": {},
   "outputs": [],
   "source": [
    "import numpy as np\n",
    "import pandas as pd\n",
    "import matplotlib.pyplot as plt\n",
    "#from mpl_toolkits import mplot3d\n",
    "#from mpl_toolkits.mplot3d import Axes3D"
   ]
  },
  {
   "cell_type": "code",
   "execution_count": 81,
   "metadata": {},
   "outputs": [],
   "source": [
    "#datos proporcionados por la maestra, son 3 columnas, x, y, error de y\n",
    "#La columna \"error de y\" nos servirá para la distribución chi^2\n",
    "\n",
    "data = np.load('fit_exercise.npy') \n",
    "#data"
   ]
  },
  {
   "cell_type": "code",
   "execution_count": 88,
   "metadata": {},
   "outputs": [],
   "source": [
    "x = data[0,:] #primer renglón\n",
    "y = data[1,:] #segundo renglón\n",
    "y_err = data[2,:] #tercer renglón\n",
    "n = len(x) #Tamaño de  nuestros vectores\n",
    "x_bar = x.mean() \n",
    "y_bar = y.mean()\n"
   ]
  },
  {
   "cell_type": "markdown",
   "metadata": {},
   "source": [
    "# Regresión lineal\n",
    "\n",
    "Tenemos la ecuación simple y general de la regresión lineal dada por\n",
    "\n",
    "$Y = b0 + b1*x$\n",
    "\n",
    "se llama regresión lineal por obvias razones, tenemos una ecuación lineal.\n",
    "La forma de obtener los coeficientes b0 y b1 están dados en la página: https://es.wikipedia.org/wiki/Regresi%C3%B3n_lineal\n",
    "\n",
    "$b1 = SUM_i(x_i - mean(x))(y_i - mean(y))/ (SUM_j (x_j - mean(x))^2 )$\n",
    "\n",
    "$b0 = mean(y) - b1*mean(x)$"
   ]
  },
  {
   "cell_type": "code",
   "execution_count": 96,
   "metadata": {},
   "outputs": [],
   "source": [
    "var = 0\n",
    "b = 0\n",
    "\n",
    "for i in range(n):\n",
    "    var = (x[i] - x_bar)**2 + var\n",
    "    \n",
    "#print(var)"
   ]
  },
  {
   "cell_type": "code",
   "execution_count": 98,
   "metadata": {},
   "outputs": [
    {
     "name": "stdout",
     "output_type": "stream",
     "text": [
      "-0.9821623517930425\n"
     ]
    }
   ],
   "source": [
    "for i in range(n):\n",
    "    b = (x[i] - x_bar)*(y[i] - y_bar) + b\n",
    "    \n",
    "b1 = b/var    \n",
    "          \n",
    "#print(b1)"
   ]
  },
  {
   "cell_type": "code",
   "execution_count": 99,
   "metadata": {},
   "outputs": [
    {
     "data": {
      "text/plain": [
       "4.5778593037533595"
      ]
     },
     "execution_count": 99,
     "metadata": {},
     "output_type": "execute_result"
    }
   ],
   "source": [
    "b0 = y_bar - b1*x_bar\n",
    "#b0"
   ]
  },
  {
   "cell_type": "code",
   "execution_count": 92,
   "metadata": {},
   "outputs": [],
   "source": [
    "X = np.arange(0,x.max(),0.01)\n",
    "Y = b0 + b1*X"
   ]
  },
  {
   "cell_type": "code",
   "execution_count": 95,
   "metadata": {},
   "outputs": [
    {
     "data": {
      "text/plain": [
       "[<matplotlib.lines.Line2D at 0x1e9a7370550>]"
      ]
     },
     "execution_count": 95,
     "metadata": {},
     "output_type": "execute_result"
    },
    {
     "data": {
      "image/png": "[encoded data removed]",
      "text/plain": [
       "<Figure size 432x288 with 1 Axes>"
      ]
     },
     "metadata": {},
     "output_type": "display_data"
    }
   ],
   "source": [
    "plt.plot(x,y,'o')\n",
    "plt.plot(X,Y,'-')"
   ]
  },
  {
   "cell_type": "markdown",
   "metadata": {},
   "source": [
    "# Mínimos cuadrados"
   ]
  },
  {
   "cell_type": "code",
   "execution_count": null,
   "metadata": {},
   "outputs": [],
   "source": []
  }
 ],
 "metadata": {
  "kernelspec": {
   "display_name": "Python 3",
   "language": "python",
   "name": "python3"
  },
  "language_info": {
   "codemirror_mode": {
    "name": "ipython",
    "version": 3
   },
   "file_extension": ".py",
   "mimetype": "text/x-python",
   "name": "python",
   "nbconvert_exporter": "python",
   "pygments_lexer": "ipython3",
   "version": "3.6.5"
  }
 },
 "nbformat": 4,
 "nbformat_minor": 2
}
