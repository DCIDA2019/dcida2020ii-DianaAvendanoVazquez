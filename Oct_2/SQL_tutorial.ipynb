{
 "cells": [
  {
   "cell_type": "markdown",
   "metadata": {},
   "source": [
    "# Some of The Most Important SQL Commands\n",
    "\n",
    "SELECT - extracts data from a database\n",
    "UPDATE - updates data in a database\n",
    "DELETE - deletes data from a database\n",
    "INSERT INTO - inserts new data into a database\n",
    "CREATE DATABASE - creates a new database\n",
    "ALTER DATABASE - modifies a database\n",
    "CREATE TABLE - creates a new table\n",
    "ALTER TABLE - modifies a table\n",
    "DROP TABLE - deletes a table\n",
    "CREATE INDEX - creates an index (search key)\n",
    "DROP INDEX - deletes an index\n",
    "\n",
    "\n",
    "\n",
    "# Single Line Comments\n",
    "Single line comments start with --.\n",
    "Any text between -- and the end of the line will be ignored (will not be executed).\n",
    "\n",
    "# Multi-line Comments\n",
    "Multi-line comments start with /* and end with */.\n",
    "\n",
    "Any text between /* and */ will be ignored.\n",
    "\n",
    "The following example uses a multi-line comment as an explanation:\n",
    "#-----------------------------------\n",
    "Example\n",
    "#----------------------------------\n",
    "/*Select all the columns\n",
    "of all the records\n",
    "in the Customers table:*/\n",
    "SELECT * FROM Customers;"
   ]
  },
  {
   "cell_type": "code",
   "execution_count": null,
   "metadata": {},
   "outputs": [],
   "source": [
    "#---------------------------------------------------------------------\n",
    "# EJEMPLO\n",
    "#---------------------------------------------------------------------\n",
    "SELECT COUNT(DISTINCT column_name) FROM table_name;\n",
    "\n",
    "#COUNT cuenta el número de entradas\n",
    "#\"DISTINCT quita valores repetidos\n"
   ]
  },
  {
   "cell_type": "code",
   "execution_count": null,
   "metadata": {},
   "outputs": [],
   "source": [
    "#The WHERE clause is not only used in SELECT statement, it is also used in UPDATE, DELETE statement, etc.!\n",
    "SELECT column1, column2, ...\n",
    "FROM table_name\n",
    "WHERE condition;\n",
    "\n",
    "#---------------------------------------------------------------------\n",
    "# EJEMPLO\n",
    "#---------------------------------------------------------------------\n",
    "\n",
    "#SELECT * FROM Customers\n",
    "#WHERE Country='Mexico';\n",
    "\n",
    "#SELECT * FROM Products\n",
    "#WHERE Price BETWEEN 50 AND 60;\n",
    "\n",
    "#SELECT * FROM Customers\n",
    "#WHERE City IN ('Paris','London');\n",
    "\n",
    "Operator\tDescription\tExample\n",
    "=\tEqual\t\n",
    ">\tGreater than\t\n",
    "<\tLess than\t\n",
    ">=\tGreater than or equal\t\n",
    "<=\tLess than or equal\t\n",
    "<>\tNot equal. Note: In some versions of SQL this operator may be written as !=\t\n",
    "BETWEEN\tBetween a certain range\t\n",
    "LIKE\tSearch for a pattern\t\n",
    "IN\tTo specify multiple possible values for a column"
   ]
  },
  {
   "cell_type": "code",
   "execution_count": null,
   "metadata": {},
   "outputs": [],
   "source": [
    "#The AND and OR operators are used to filter records based on more than one condition:\n",
    "\n",
    "#The AND operator displays a record if all the conditions separated by AND are TRUE.\n",
    "#The OR operator displays a record if any of the conditions separated by OR is TRUE.\n",
    "#The NOT operator displays a record if the condition(s) is NOT TRUE.\n",
    "\n",
    "#--------------------------------------------------\n",
    "#AND Syntax\n",
    "#_-------------------------------------------------\n",
    "SELECT column1, column2, ...\n",
    "FROM table_name\n",
    "WHERE condition1 AND condition2 AND condition3 ...;\n",
    "\n",
    "#SELECT * FROM Customers\n",
    "#WHERE Country='Germany' AND City='Berlin';    \n",
    "\n",
    "esto permite tener más de una condición de diferentes campos (columnas), pero ambas se deben cumplir simultáneamente\n",
    "\n",
    "#--------------------------------------------------\n",
    "#OR Syntax\n",
    "#_-------------------------------------------------\n",
    "SELECT column1, column2, ...\n",
    "FROM table_name\n",
    "WHERE condition1 OR condition2 OR condition3 ...;\n",
    "\n",
    "#SELECT * FROM Customers\n",
    "#WHERE City='Berlin' OR City='München';\n",
    "\n",
    "#SELECT * FROM Customers\n",
    "#WHERE Country='Germany' OR Country='Spain';\n",
    "\n",
    "esto permite tener más de una condición de diferentes campos (columnas)\n",
    "pero ambas NO NECESARIAMENTE se deben cumplir simultáneamente\n",
    "\n",
    "#--------------------------------------------------\n",
    "#NOT Syntax\n",
    "#_-------------------------------------------------\n",
    "SELECT column1, column2, ...\n",
    "FROM table_name\n",
    "WHERE NOT condition;\n",
    "\n",
    "#SELECT * FROM Customers\n",
    "#WHERE NOT Country='Germany';\n",
    "quita el dato que no queremos\n",
    "\n",
    "También se pueden combinar los comandos\n",
    "\n",
    "#SELECT * FROM Customers\n",
    "#WHERE Country='Germany' AND (City='Berlin' OR City='München');\n",
    "\n",
    "#SELECT * FROM Customers\n",
    "#WHERE NOT Country='Germany' AND NOT Country='USA';"
   ]
  },
  {
   "cell_type": "markdown",
   "metadata": {},
   "source": [
    "# The INSERT INTO statement is used to insert new records in a table."
   ]
  },
  {
   "cell_type": "code",
   "execution_count": null,
   "metadata": {},
   "outputs": [],
   "source": [
    "INSERT INTO table_name (column1, column2, column3, ...)\n",
    "VALUES (value1, value2, value3, ...);\n",
    "\n",
    "#The following SQL statement inserts a new record in the \"Customers\" table\n",
    "\n",
    "#INSERT INTO Customers (CustomerName, ContactName, Address, City, PostalCode, Country)\n",
    "#VALUES ('Cardinal', 'Tom B. Erichsen', 'Skagen 21', 'Stavanger', '4006', 'Norway');\n",
    "\n",
    "Si se van a agregar datos en columnas específicas, estos deben matchera con las que se eligen, como al final\n",
    "tenemos \"Country\" y 'Norway'.\n",
    "Si no se agregan datos a ciertas columnas SQL los rellena con NULL's"
   ]
  },
  {
   "cell_type": "markdown",
   "metadata": {},
   "source": [
    "# The SQL SELECT INTO Statement\n",
    "The SELECT INTO statement copies data from one table into a new table."
   ]
  },
  {
   "cell_type": "code",
   "execution_count": null,
   "metadata": {},
   "outputs": [],
   "source": [
    "SELECT *\n",
    "INTO newtable [IN externaldb]\n",
    "FROM oldtable\n",
    "WHERE condition;\n",
    "\n",
    "#Copy only some columns into a new table:\n",
    "\n",
    "SELECT column1, column2, column3, ...\n",
    "INTO newtable [IN externaldb]\n",
    "FROM oldtable\n",
    "WHERE condition;\n",
    "\n",
    "#The new table will be created with the column-names and types as defined in the old table.\n",
    "#You can create new column names using the AS clause.\n",
    "\n",
    "\n",
    "#The following SQL statement creates a backup copy of Customers:\n",
    "SELECT * INTO CustomersBackup2017\n",
    "FROM Customers;\n",
    "\n",
    "\n",
    "#The following SQL statement uses the IN clause to copy the table into a new table in another database:\n",
    "SELECT * INTO CustomersBackup2017 IN 'Backup.mdb'\n",
    "FROM Customers;\n",
    "\n",
    "\n",
    "#The following SQL statement copies only a few columns into a new table:\n",
    "SELECT CustomerName, ContactName INTO CustomersBackup2017\n",
    "FROM Customers;\n",
    "\n",
    "\n",
    "#The following SQL statement copies only the German customers into a new table:\n",
    "SELECT * INTO CustomersGermany\n",
    "FROM Customers\n",
    "WHERE Country = 'Germany';"
   ]
  },
  {
   "cell_type": "markdown",
   "metadata": {},
   "source": [
    "# The SQL INSERT INTO SELECT Statement\n",
    "The INSERT INTO SELECT statement copies data from one table and inserts it into another table.\n",
    "\n",
    "INSERT INTO SELECT requires that data types in source and target tables match\n",
    "The existing records in the target table are unaffected\n",
    "\n",
    "# INSERT INTO SELECT Syntax\n",
    "Copy all columns from one table to another table:"
   ]
  },
  {
   "cell_type": "code",
   "execution_count": null,
   "metadata": {},
   "outputs": [],
   "source": [
    "#Copy all columns from one table to another table:\n",
    "\n",
    "INSERT INTO table2\n",
    "SELECT * FROM table1\n",
    "WHERE condition;\n",
    "\n",
    "#Copy only some columns from one table into another table:\n",
    "\n",
    "INSERT INTO table2 (column1, column2, column3, ...)\n",
    "SELECT column1, column2, column3, ...\n",
    "FROM table1\n",
    "WHERE condition;\n",
    "\n",
    "#es necesario que los \"records\"(reonglones) matcheen"
   ]
  },
  {
   "cell_type": "markdown",
   "metadata": {},
   "source": [
    "# Operadores\n",
    "\n",
    "+\tAdd\t\n",
    "-\tSubtract\t\n",
    "*\tMultiply\t\n",
    "/\tDivide\n",
    "=\tEqual to\t\n",
    ">\tGreater than\t\n",
    "<\tLess than\t\n",
    ">=\tGreater than or equal to\t\n",
    "<=\tLess than or equal to\t\n",
    "<>\tNot equal to\n",
    "+=\tAdd equals\n",
    "-=\tSubtract equals\n",
    "*=\tMultiply equals\n",
    "/=\tDivide equals"
   ]
  },
  {
   "cell_type": "markdown",
   "metadata": {},
   "source": [
    "# The SQL CREATE DATABASE Statement"
   ]
  },
  {
   "cell_type": "code",
   "execution_count": null,
   "metadata": {},
   "outputs": [],
   "source": [
    "Syntax\n",
    "\n",
    "CREATE DATABASE databasename;\n",
    "\n",
    "#Once a database is created, you can check it in the list of databases with the following SQL command: SHOW DATABASES"
   ]
  },
  {
   "cell_type": "markdown",
   "metadata": {},
   "source": [
    "# The SQL BACKUP DATABASE Statement\n",
    "The BACKUP DATABASE statement is used in SQL Server to create a full back up of an existing SQL database.\n"
   ]
  },
  {
   "cell_type": "code",
   "execution_count": null,
   "metadata": {},
   "outputs": [],
   "source": [
    "BACKUP DATABASE databasename\n",
    "TO DISK = 'filepath';\n",
    "\n",
    "#A differential back up only backs up the parts of the database that have changed since the last full database backup.\n",
    "\n",
    "BACKUP DATABASE databasename\n",
    "TO DISK = 'filepath'\n",
    "WITH DIFFERENTIAL;\n",
    "\n",
    "#BACKUP DATABASE testDB\n",
    "#TO DISK = 'D:\\backups\\testDB.bak';"
   ]
  },
  {
   "cell_type": "markdown",
   "metadata": {},
   "source": [
    "# The SQL CREATE TABLE Statement\n",
    "The CREATE TABLE statement is used to create a new table in a database."
   ]
  },
  {
   "cell_type": "code",
   "execution_count": null,
   "metadata": {},
   "outputs": [],
   "source": [
    "CREATE TABLE table_name (\n",
    "    column1 datatype,\n",
    "    column2 datatype,\n",
    "    column3 datatype,\n",
    "   ....\n",
    ");\n",
    "\n",
    "#The column parameters specify the names of the columns of the table.\n",
    "#The datatype parameter specifies the type of data the column can hold (e.g. varchar, integer, date, etc.).\n",
    "\n",
    "For an overview of the available data types: \"https://www.w3schools.com/sql/sql_datatypes.asp\"\n",
    "\n",
    "#-------------------------------------------------------------\n",
    "#EJEMPLO\n",
    "#-----------------------------------------------------------\n",
    "CREATE TABLE Persons (\n",
    "    PersonID int,\n",
    "    LastName varchar(255),\n",
    "    FirstName varchar(255),\n",
    "    Address varchar(255),\n",
    "    City varchar(255)\n",
    ");\n",
    "    \n",
    "#The PersonID column is of type int and will hold an integer.\n",
    "#The LastName, FirstName, Address, and City columns are of type varchar and will hold characters, \n",
    "#and the maximum length for these fields is 255 characters."
   ]
  }
 ],
 "metadata": {
  "kernelspec": {
   "display_name": "Python 3",
   "language": "python",
   "name": "python3"
  },
  "language_info": {
   "codemirror_mode": {
    "name": "ipython",
    "version": 3
   },
   "file_extension": ".py",
   "mimetype": "text/x-python",
   "name": "python",
   "nbconvert_exporter": "python",
   "pygments_lexer": "ipython3",
   "version": "3.6.5"
  }
 },
 "nbformat": 4,
 "nbformat_minor": 2
}
