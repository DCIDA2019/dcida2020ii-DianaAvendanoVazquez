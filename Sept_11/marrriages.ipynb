{
 "cells": [
  {
   "cell_type": "code",
   "execution_count": 114,
   "metadata": {},
   "outputs": [
    {
     "name": "stdout",
     "output_type": "stream",
     "text": [
      "Once deleted, variables cannot be recovered. Proceed (y/[n])? y\n"
     ]
    }
   ],
   "source": [
    "%reset"
   ]
  },
  {
   "cell_type": "code",
   "execution_count": 1,
   "metadata": {},
   "outputs": [],
   "source": [
    "import os\n",
    "import requests #nos deja descargar toda la informacion de una página web\n",
    "import pandas as pd\n",
    "import numpy as np\n",
    "import seaborn as sns\n",
    "from matplotlib import pyplot as plt"
   ]
  },
  {
   "cell_type": "markdown",
   "metadata": {},
   "source": [
    "# Tablas de información de matrimonios y divocios a lo largo de las décadas\n",
    "\n",
    "Un estudio de mujeres y hombres entre los 25-34 y 35-44 años"
   ]
  },
  {
   "cell_type": "code",
   "execution_count": 6,
   "metadata": {},
   "outputs": [],
   "source": [
    "url5 = \"https://github.com/resbaz/data/tree/master/marriage\"\n",
    "html5 = requests.get(url5).content #pedimos que nos dé el código dela página\n",
    "file5 = \"simbologia.csv\" #hacemos la variable que va a contener ese nombre o en este caso documento\n",
    "#os.path.isfile(file5) #te dice si existe aún o no la variable que pides en el mismo directorio\n",
    "df5_list = pd.read_html(html5, header = 0)\n",
    "df5 = df5_list[-1]\n",
    "df5.to_csv(file5)\n",
    "df5= pd.read_csv(file5)\n",
    "#df5"
   ]
  },
  {
   "cell_type": "markdown",
   "metadata": {},
   "source": [
    "Algo que nos interesa es conocer el número de matrimonios entre clases solciales."
   ]
  },
  {
   "cell_type": "code",
   "execution_count": 7,
   "metadata": {},
   "outputs": [],
   "source": [
    "url =[ \"https://github.com/resbaz/data/blob/master/marriage/both_sexes.csv\", \n",
    "      \"https://github.com/resbaz/data/blob/master/marriage/divorce.csv\",\n",
    "      \"https://github.com/resbaz/data/blob/master/marriage/men.csv\",\n",
    "     \"https://github.com/resbaz/data/blob/master/marriage/women.csv\"] #busca la página\n",
    "\n",
    "labels = ['matrimonios','divorcios','men','women']#nombres de las tablas, debe coincidir el nombre con el ordel de los url\n",
    "\n"
   ]
  },
  {
   "cell_type": "code",
   "execution_count": 8,
   "metadata": {},
   "outputs": [],
   "source": [
    "#url es un vector que contiene todos los links (entre comillas) de donde deseamos obtener las tablas\n",
    "#\"labels\" es un vector que contiene los nombres de las tablas (entre comillas), debe coincidir el nombre de la tabla con el ordel de los url correspondiente\n",
    "def html2csv(url,labels):\n",
    "    \n",
    "    #buscamos el iésimo argumento de \"url\" y le asignamos una variable a la tabla contenida en dicha página web.\n",
    "    for i in range(len(url)):\n",
    "        \n",
    "        html = requests.get(url[i]).content #solicitamos el código fuente del url seleccionado\n",
    "        tabla_datos = pd.read_html(html, header = 0) #el prefijo \"pd\" nos asegura que sólo leeremos el contenido que está en forma de tabla, \"header\" es el encabezado de la tabla o el renglón que indica a qué corresponde los datos\n",
    "        globals()[labels[i]] = tabla_datos[0] #\"globals()\" convierte en variables a los argumentos de \"labels\", y estas variables temdrán como contenido las tablas. El valor de los corchetes puede variar entre 0 y -1\n",
    "        globals()[labels[i]].to_csv(labels[i]+'.csv')  \n",
    "    "
   ]
  },
  {
   "cell_type": "code",
   "execution_count": 9,
   "metadata": {},
   "outputs": [],
   "source": [
    "marriage = pd.read_csv(\"matrimonios.csv\")\n",
    "marriages = marriage.set_index('year')\n",
    "\n",
    "divorce = pd.read_csv('divorcios.csv')\n",
    "divorces = divorce.set_index('year')\n",
    "\n",
    "woman = pd.read_csv('women.csv')\n",
    "women = woman.set_index('year')\n",
    "\n",
    "man = pd.read_csv('men.csv')\n",
    "men = man.set_index('year')"
   ]
  },
  {
   "cell_type": "code",
   "execution_count": 10,
   "metadata": {},
   "outputs": [
    {
     "data": {
      "text/html": [
       "<div>\n",
       "<style scoped>\n",
       "    .dataframe tbody tr th:only-of-type {\n",
       "        vertical-align: middle;\n",
       "    }\n",
       "\n",
       "    .dataframe tbody tr th {\n",
       "        vertical-align: top;\n",
       "    }\n",
       "\n",
       "    .dataframe thead th {\n",
       "        text-align: right;\n",
       "    }\n",
       "</style>\n",
       "<table border=\"1\" class=\"dataframe\">\n",
       "  <thead>\n",
       "    <tr style=\"text-align: right;\">\n",
       "      <th></th>\n",
       "      <th>poor_3544</th>\n",
       "      <th>mid_3544</th>\n",
       "      <th>rich_3544</th>\n",
       "    </tr>\n",
       "    <tr>\n",
       "      <th>year</th>\n",
       "      <th></th>\n",
       "      <th></th>\n",
       "      <th></th>\n",
       "    </tr>\n",
       "  </thead>\n",
       "  <tbody>\n",
       "    <tr>\n",
       "      <th>1960</th>\n",
       "      <td>0.101975</td>\n",
       "      <td>0.047173</td>\n",
       "      <td>0.085539</td>\n",
       "    </tr>\n",
       "    <tr>\n",
       "      <th>1970</th>\n",
       "      <td>0.111755</td>\n",
       "      <td>0.045668</td>\n",
       "      <td>0.064992</td>\n",
       "    </tr>\n",
       "    <tr>\n",
       "      <th>1980</th>\n",
       "      <td>0.129143</td>\n",
       "      <td>0.050503</td>\n",
       "      <td>0.044460</td>\n",
       "    </tr>\n",
       "    <tr>\n",
       "      <th>1990</th>\n",
       "      <td>0.201221</td>\n",
       "      <td>0.090247</td>\n",
       "      <td>0.065739</td>\n",
       "    </tr>\n",
       "    <tr>\n",
       "      <th>2000</th>\n",
       "      <td>0.281314</td>\n",
       "      <td>0.128158</td>\n",
       "      <td>0.086220</td>\n",
       "    </tr>\n",
       "    <tr>\n",
       "      <th>2001</th>\n",
       "      <td>0.291911</td>\n",
       "      <td>0.132676</td>\n",
       "      <td>0.068033</td>\n",
       "    </tr>\n",
       "    <tr>\n",
       "      <th>2002</th>\n",
       "      <td>0.290430</td>\n",
       "      <td>0.137232</td>\n",
       "      <td>0.071534</td>\n",
       "    </tr>\n",
       "    <tr>\n",
       "      <th>2003</th>\n",
       "      <td>0.296769</td>\n",
       "      <td>0.137917</td>\n",
       "      <td>0.069490</td>\n",
       "    </tr>\n",
       "    <tr>\n",
       "      <th>2004</th>\n",
       "      <td>0.309346</td>\n",
       "      <td>0.141358</td>\n",
       "      <td>0.068312</td>\n",
       "    </tr>\n",
       "    <tr>\n",
       "      <th>2005</th>\n",
       "      <td>0.310960</td>\n",
       "      <td>0.147794</td>\n",
       "      <td>0.067485</td>\n",
       "    </tr>\n",
       "    <tr>\n",
       "      <th>2006</th>\n",
       "      <td>0.324978</td>\n",
       "      <td>0.159143</td>\n",
       "      <td>0.115692</td>\n",
       "    </tr>\n",
       "    <tr>\n",
       "      <th>2007</th>\n",
       "      <td>0.331217</td>\n",
       "      <td>0.162851</td>\n",
       "      <td>0.114409</td>\n",
       "    </tr>\n",
       "    <tr>\n",
       "      <th>2008</th>\n",
       "      <td>0.336546</td>\n",
       "      <td>0.168967</td>\n",
       "      <td>0.116050</td>\n",
       "    </tr>\n",
       "    <tr>\n",
       "      <th>2009</th>\n",
       "      <td>0.349643</td>\n",
       "      <td>0.172442</td>\n",
       "      <td>0.117565</td>\n",
       "    </tr>\n",
       "    <tr>\n",
       "      <th>2010</th>\n",
       "      <td>0.354662</td>\n",
       "      <td>0.180265</td>\n",
       "      <td>0.113379</td>\n",
       "    </tr>\n",
       "    <tr>\n",
       "      <th>2011</th>\n",
       "      <td>0.362513</td>\n",
       "      <td>0.185398</td>\n",
       "      <td>0.114534</td>\n",
       "    </tr>\n",
       "    <tr>\n",
       "      <th>2012</th>\n",
       "      <td>0.369731</td>\n",
       "      <td>0.188512</td>\n",
       "      <td>0.116969</td>\n",
       "    </tr>\n",
       "  </tbody>\n",
       "</table>\n",
       "</div>"
      ],
      "text/plain": [
       "      poor_3544  mid_3544  rich_3544\n",
       "year                                \n",
       "1960   0.101975  0.047173   0.085539\n",
       "1970   0.111755  0.045668   0.064992\n",
       "1980   0.129143  0.050503   0.044460\n",
       "1990   0.201221  0.090247   0.065739\n",
       "2000   0.281314  0.128158   0.086220\n",
       "2001   0.291911  0.132676   0.068033\n",
       "2002   0.290430  0.137232   0.071534\n",
       "2003   0.296769  0.137917   0.069490\n",
       "2004   0.309346  0.141358   0.068312\n",
       "2005   0.310960  0.147794   0.067485\n",
       "2006   0.324978  0.159143   0.115692\n",
       "2007   0.331217  0.162851   0.114409\n",
       "2008   0.336546  0.168967   0.116050\n",
       "2009   0.349643  0.172442   0.117565\n",
       "2010   0.354662  0.180265   0.113379\n",
       "2011   0.362513  0.185398   0.114534\n",
       "2012   0.369731  0.188512   0.116969"
      ]
     },
     "execution_count": 10,
     "metadata": {},
     "output_type": "execute_result"
    }
   ],
   "source": [
    "Mat_clases_soc = marriages[['poor_3544', 'mid_3544','rich_3544']]\n",
    "Mat_clases_soc"
   ]
  },
  {
   "cell_type": "code",
   "execution_count": 11,
   "metadata": {},
   "outputs": [
    {
     "data": {
      "text/plain": [
       "<matplotlib.axes._subplots.AxesSubplot at 0x294d47ceda0>"
      ]
     },
     "execution_count": 11,
     "metadata": {},
     "output_type": "execute_result"
    },
    {
     "data": {
      "image/png": "[encoded data removed]",
      "text/plain": [
       "<Figure size 432x288 with 1 Axes>"
      ]
     },
     "metadata": {},
     "output_type": "display_data"
    }
   ],
   "source": [
    "#Mat_clases_soc.plot()\n",
    "#plt.bar(Mat_clases_soc.index, Mat_clases_soc['poor_3544'], width=0.8,data=Mat_clases_soc)\n",
    "Mat_clases_soc.plot( y = ['poor_3544','mid_3544', 'rich_3544'], kind=\"bar\")\n"
   ]
  },
  {
   "cell_type": "code",
   "execution_count": 12,
   "metadata": {},
   "outputs": [
    {
     "data": {
      "text/plain": [
       "<matplotlib.axes._subplots.AxesSubplot at 0x294d69155c0>"
      ]
     },
     "execution_count": 12,
     "metadata": {},
     "output_type": "execute_result"
    },
    {
     "data": {
      "image/png": "[encoded data removed]",
      "text/plain": [
       "<Figure size 432x288 with 1 Axes>"
      ]
     },
     "metadata": {},
     "output_type": "display_data"
    }
   ],
   "source": [
    "z = Mat_clases_soc.truncate(before=2000)\n",
    "z.plot( y = ['poor_3544','mid_3544', 'rich_3544'], kind=\"bar\")"
   ]
  },
  {
   "cell_type": "markdown",
   "metadata": {},
   "source": [
    "Se casa más la población de bajos recursos que la que gente de clase económica alta."
   ]
  },
  {
   "cell_type": "code",
   "execution_count": 13,
   "metadata": {},
   "outputs": [
    {
     "data": {
      "image/png": "[encoded data removed]",
      "text/plain": [
       "<Figure size 432x288 with 1 Axes>"
      ]
     },
     "metadata": {},
     "output_type": "display_data"
    }
   ],
   "source": [
    "ax = Mat_clases_soc.plot( y=\"poor_3544\", kind=\"bar\")\n",
    "Mat_clases_soc.plot( y=\"mid_3544\", kind=\"bar\", ax=ax, color=\"C2\")\n",
    "Mat_clases_soc.plot( y=\"rich_3544\", kind=\"bar\", ax=ax, color=\"C3\")\n",
    "\n",
    "plt.show()"
   ]
  },
  {
   "cell_type": "markdown",
   "metadata": {},
   "source": [
    "También es de interés poder comprar el número de divorcios y matrimonios en base a la escolaridad."
   ]
  },
  {
   "cell_type": "code",
   "execution_count": 23,
   "metadata": {},
   "outputs": [],
   "source": [
    "div_esc = divorces[['HS_3544','HS_4554','SC_3544','SC_4554','BAp_3544','BAp_4554','BAo_3544','BAo_4554','GD_3544']]\n",
    "marr_esc = marriages[['HS_3544','HS_4554','SC_3544','SC_4554','BAp_3544','BAp_4554','BAo_3544','BAo_4554','GD_3544']]"
   ]
  },
  {
   "cell_type": "code",
   "execution_count": 45,
   "metadata": {},
   "outputs": [],
   "source": [
    "#ecolaridad = marr_esc.append(div_esc) \n",
    "ecolaridad = pd.merge(div_esc, marr_esc, on = 'year')\n",
    "#ecolaridad"
   ]
  },
  {
   "cell_type": "code",
   "execution_count": 43,
   "metadata": {},
   "outputs": [
    {
     "data": {
      "text/plain": [
       "<matplotlib.legend.Legend at 0x294d6fbb198>"
      ]
     },
     "execution_count": 43,
     "metadata": {},
     "output_type": "execute_result"
    },
    {
     "data": {
      "image/png": "[encoded data removed]",
      "text/plain": [
       "<Figure size 432x288 with 1 Axes>"
      ]
     },
     "metadata": {},
     "output_type": "display_data"
    }
   ],
   "source": [
    "z1 = ecolaridad.truncate(before=2000, after=2002)\n",
    "z1.plot( y = ['HS_3544_x','HS_4554_x','SC_3544_x','SC_4554_x','BAp_3544_x','BAp_4554_x','BAo_3544_x','BAo_4554_x','GD_3544_x','GD_3544_x','HS_3544_y','HS_4554_y','SC_3544_y','SC_4554_y','BAp_3544_y','BAp_4554_y','BAo_3544_y','BAo_4554_y','GD_3544_y'], kind=\"bar\")\n",
    "plt.legend(bbox_to_anchor=(1.05, 1), loc='upper left', borderaxespad=0.)"
   ]
  },
  {
   "cell_type": "code",
   "execution_count": 44,
   "metadata": {},
   "outputs": [
    {
     "data": {
      "image/png": "[encoded data removed]",
      "text/plain": [
       "<Figure size 432x288 with 1 Axes>"
      ]
     },
     "metadata": {},
     "output_type": "display_data"
    }
   ],
   "source": [
    "ax = z1.plot( y='HS_3544_x', kind=\"bar\")\n",
    "z1.plot( y='HS_4554_x', kind=\"bar\", ax = ax, color = 'C1')\n",
    "z1.plot( y='SC_3544_x', kind=\"bar\", ax = ax, color = 'C2')\n",
    "z1.plot( y='SC_4554_x', kind=\"bar\",ax = ax, color = 'C3')\n",
    "z1.plot( y='BAp_3544_x', kind=\"bar\",ax = ax, color = 'C4')\n",
    "z1.plot( y='BAp_4554_x', kind=\"bar\",ax = ax, color = 'C5')\n",
    "z1.plot( y='BAo_3544_x', kind=\"bar\",ax = ax, color = 'C6')\n",
    "z1.plot( y='BAo_4554_x', kind=\"bar\", ax = ax, color = 'C7')\n",
    "z1.plot( y='GD_3544_x', kind=\"bar\",ax = ax, color = 'C8')\n",
    "z1.plot( y='GD_3544_x', kind=\"bar\",ax = ax, color = 'C9')\n",
    "z1.plot( y='HS_3544_y', kind=\"bar\", ax = ax, color = 'plum')\n",
    "z1.plot( y='HS_4554_y', kind=\"bar\", ax = ax, color = 'violet')\n",
    "z1.plot( y='SC_3544_y', kind=\"bar\", ax = ax, color = 'gold')\n",
    "z1.plot( y='SC_4554_y', kind=\"bar\", ax = ax, color = 'khaki')\n",
    "z1.plot( y='BAp_3544_y', kind=\"bar\", ax = ax, color = 'firebrick')\n",
    "z1.plot( y='BAp_4554_y', kind=\"bar\", ax = ax, color = 'maroon')\n",
    "z1.plot( y='BAo_3544_y', kind=\"bar\", ax = ax, color = 'orangered')\n",
    "z1.plot( y='BAo_4554_y', kind=\"bar\", ax = ax, color = 'cyan')\n",
    "z1.plot( y='GD_3544_y', kind=\"bar\", ax = ax, color = 'teal')\n",
    "plt.legend(bbox_to_anchor=(1.05, 1), loc='upper left', borderaxespad=0.)\n",
    "\n",
    "plt.show()"
   ]
  },
  {
   "cell_type": "code",
   "execution_count": 52,
   "metadata": {},
   "outputs": [
    {
     "data": {
      "text/html": [
       "<div>\n",
       "<style scoped>\n",
       "    .dataframe tbody tr th:only-of-type {\n",
       "        vertical-align: middle;\n",
       "    }\n",
       "\n",
       "    .dataframe tbody tr th {\n",
       "        vertical-align: top;\n",
       "    }\n",
       "\n",
       "    .dataframe thead th {\n",
       "        text-align: right;\n",
       "    }\n",
       "</style>\n",
       "<table border=\"1\" class=\"dataframe\">\n",
       "  <thead>\n",
       "    <tr style=\"text-align: right;\">\n",
       "      <th></th>\n",
       "      <th>all_2534</th>\n",
       "      <th>all_3544</th>\n",
       "      <th>all_4554</th>\n",
       "    </tr>\n",
       "    <tr>\n",
       "      <th>year</th>\n",
       "      <th></th>\n",
       "      <th></th>\n",
       "      <th></th>\n",
       "    </tr>\n",
       "  </thead>\n",
       "  <tbody>\n",
       "    <tr>\n",
       "      <th>1960</th>\n",
       "      <td>0.085942</td>\n",
       "      <td>0.059352</td>\n",
       "      <td>0.070916</td>\n",
       "    </tr>\n",
       "    <tr>\n",
       "      <th>1970</th>\n",
       "      <td>0.099978</td>\n",
       "      <td>0.056618</td>\n",
       "      <td>0.055023</td>\n",
       "    </tr>\n",
       "    <tr>\n",
       "      <th>1980</th>\n",
       "      <td>0.161973</td>\n",
       "      <td>0.060851</td>\n",
       "      <td>0.046067</td>\n",
       "    </tr>\n",
       "    <tr>\n",
       "      <th>1990</th>\n",
       "      <td>0.244481</td>\n",
       "      <td>0.097163</td>\n",
       "      <td>0.054240</td>\n",
       "    </tr>\n",
       "    <tr>\n",
       "      <th>2000</th>\n",
       "      <td>0.297561</td>\n",
       "      <td>0.133991</td>\n",
       "      <td>0.079622</td>\n",
       "    </tr>\n",
       "    <tr>\n",
       "      <th>2001</th>\n",
       "      <td>0.306707</td>\n",
       "      <td>0.136650</td>\n",
       "      <td>0.082189</td>\n",
       "    </tr>\n",
       "    <tr>\n",
       "      <th>2002</th>\n",
       "      <td>0.310739</td>\n",
       "      <td>0.139652</td>\n",
       "      <td>0.084953</td>\n",
       "    </tr>\n",
       "    <tr>\n",
       "      <th>2003</th>\n",
       "      <td>0.317093</td>\n",
       "      <td>0.141589</td>\n",
       "      <td>0.089503</td>\n",
       "    </tr>\n",
       "    <tr>\n",
       "      <th>2004</th>\n",
       "      <td>0.324482</td>\n",
       "      <td>0.143623</td>\n",
       "      <td>0.093836</td>\n",
       "    </tr>\n",
       "    <tr>\n",
       "      <th>2005</th>\n",
       "      <td>0.335692</td>\n",
       "      <td>0.149017</td>\n",
       "      <td>0.097716</td>\n",
       "    </tr>\n",
       "    <tr>\n",
       "      <th>2006</th>\n",
       "      <td>0.362213</td>\n",
       "      <td>0.165491</td>\n",
       "      <td>0.106485</td>\n",
       "    </tr>\n",
       "    <tr>\n",
       "      <th>2007</th>\n",
       "      <td>0.374903</td>\n",
       "      <td>0.168570</td>\n",
       "      <td>0.109097</td>\n",
       "    </tr>\n",
       "    <tr>\n",
       "      <th>2008</th>\n",
       "      <td>0.385953</td>\n",
       "      <td>0.172319</td>\n",
       "      <td>0.115080</td>\n",
       "    </tr>\n",
       "    <tr>\n",
       "      <th>2009</th>\n",
       "      <td>0.408652</td>\n",
       "      <td>0.177053</td>\n",
       "      <td>0.116990</td>\n",
       "    </tr>\n",
       "    <tr>\n",
       "      <th>2010</th>\n",
       "      <td>0.415484</td>\n",
       "      <td>0.180864</td>\n",
       "      <td>0.121227</td>\n",
       "    </tr>\n",
       "    <tr>\n",
       "      <th>2011</th>\n",
       "      <td>0.429768</td>\n",
       "      <td>0.186950</td>\n",
       "      <td>0.123518</td>\n",
       "    </tr>\n",
       "    <tr>\n",
       "      <th>2012</th>\n",
       "      <td>0.440722</td>\n",
       "      <td>0.189073</td>\n",
       "      <td>0.123312</td>\n",
       "    </tr>\n",
       "  </tbody>\n",
       "</table>\n",
       "</div>"
      ],
      "text/plain": [
       "      all_2534  all_3544  all_4554\n",
       "year                              \n",
       "1960  0.085942  0.059352  0.070916\n",
       "1970  0.099978  0.056618  0.055023\n",
       "1980  0.161973  0.060851  0.046067\n",
       "1990  0.244481  0.097163  0.054240\n",
       "2000  0.297561  0.133991  0.079622\n",
       "2001  0.306707  0.136650  0.082189\n",
       "2002  0.310739  0.139652  0.084953\n",
       "2003  0.317093  0.141589  0.089503\n",
       "2004  0.324482  0.143623  0.093836\n",
       "2005  0.335692  0.149017  0.097716\n",
       "2006  0.362213  0.165491  0.106485\n",
       "2007  0.374903  0.168570  0.109097\n",
       "2008  0.385953  0.172319  0.115080\n",
       "2009  0.408652  0.177053  0.116990\n",
       "2010  0.415484  0.180864  0.121227\n",
       "2011  0.429768  0.186950  0.123518\n",
       "2012  0.440722  0.189073  0.123312"
      ]
     },
     "metadata": {},
     "output_type": "display_data"
    },
    {
     "data": {
      "text/html": [
       "<div>\n",
       "<style scoped>\n",
       "    .dataframe tbody tr th:only-of-type {\n",
       "        vertical-align: middle;\n",
       "    }\n",
       "\n",
       "    .dataframe tbody tr th {\n",
       "        vertical-align: top;\n",
       "    }\n",
       "\n",
       "    .dataframe thead th {\n",
       "        text-align: right;\n",
       "    }\n",
       "</style>\n",
       "<table border=\"1\" class=\"dataframe\">\n",
       "  <thead>\n",
       "    <tr style=\"text-align: right;\">\n",
       "      <th></th>\n",
       "      <th>all_2534</th>\n",
       "      <th>all_3544</th>\n",
       "      <th>all_4554</th>\n",
       "    </tr>\n",
       "    <tr>\n",
       "      <th>year</th>\n",
       "      <th></th>\n",
       "      <th></th>\n",
       "      <th></th>\n",
       "    </tr>\n",
       "  </thead>\n",
       "  <tbody>\n",
       "    <tr>\n",
       "      <th>1960</th>\n",
       "      <td>0.162455</td>\n",
       "      <td>0.082435</td>\n",
       "      <td>0.074231</td>\n",
       "    </tr>\n",
       "    <tr>\n",
       "      <th>1970</th>\n",
       "      <td>0.155409</td>\n",
       "      <td>0.078710</td>\n",
       "      <td>0.064729</td>\n",
       "    </tr>\n",
       "    <tr>\n",
       "      <th>1980</th>\n",
       "      <td>0.237300</td>\n",
       "      <td>0.077163</td>\n",
       "      <td>0.059458</td>\n",
       "    </tr>\n",
       "    <tr>\n",
       "      <th>1990</th>\n",
       "      <td>0.349195</td>\n",
       "      <td>0.126991</td>\n",
       "      <td>0.064975</td>\n",
       "    </tr>\n",
       "    <tr>\n",
       "      <th>2000</th>\n",
       "      <td>0.391913</td>\n",
       "      <td>0.178445</td>\n",
       "      <td>0.096804</td>\n",
       "    </tr>\n",
       "    <tr>\n",
       "      <th>2001</th>\n",
       "      <td>0.399740</td>\n",
       "      <td>0.176937</td>\n",
       "      <td>0.094608</td>\n",
       "    </tr>\n",
       "    <tr>\n",
       "      <th>2002</th>\n",
       "      <td>0.396965</td>\n",
       "      <td>0.180455</td>\n",
       "      <td>0.101137</td>\n",
       "    </tr>\n",
       "    <tr>\n",
       "      <th>2003</th>\n",
       "      <td>0.407330</td>\n",
       "      <td>0.180870</td>\n",
       "      <td>0.104794</td>\n",
       "    </tr>\n",
       "    <tr>\n",
       "      <th>2004</th>\n",
       "      <td>0.410667</td>\n",
       "      <td>0.187378</td>\n",
       "      <td>0.108959</td>\n",
       "    </tr>\n",
       "    <tr>\n",
       "      <th>2005</th>\n",
       "      <td>0.423207</td>\n",
       "      <td>0.188734</td>\n",
       "      <td>0.115937</td>\n",
       "    </tr>\n",
       "    <tr>\n",
       "      <th>2006</th>\n",
       "      <td>0.465538</td>\n",
       "      <td>0.215136</td>\n",
       "      <td>0.136077</td>\n",
       "    </tr>\n",
       "    <tr>\n",
       "      <th>2007</th>\n",
       "      <td>0.477149</td>\n",
       "      <td>0.218490</td>\n",
       "      <td>0.139037</td>\n",
       "    </tr>\n",
       "    <tr>\n",
       "      <th>2008</th>\n",
       "      <td>0.491056</td>\n",
       "      <td>0.224386</td>\n",
       "      <td>0.148461</td>\n",
       "    </tr>\n",
       "    <tr>\n",
       "      <th>2009</th>\n",
       "      <td>0.514549</td>\n",
       "      <td>0.228925</td>\n",
       "      <td>0.153554</td>\n",
       "    </tr>\n",
       "    <tr>\n",
       "      <th>2010</th>\n",
       "      <td>0.523711</td>\n",
       "      <td>0.233811</td>\n",
       "      <td>0.158537</td>\n",
       "    </tr>\n",
       "    <tr>\n",
       "      <th>2011</th>\n",
       "      <td>0.536362</td>\n",
       "      <td>0.237807</td>\n",
       "      <td>0.163155</td>\n",
       "    </tr>\n",
       "    <tr>\n",
       "      <th>2012</th>\n",
       "      <td>0.547199</td>\n",
       "      <td>0.243212</td>\n",
       "      <td>0.162832</td>\n",
       "    </tr>\n",
       "  </tbody>\n",
       "</table>\n",
       "</div>"
      ],
      "text/plain": [
       "      all_2534  all_3544  all_4554\n",
       "year                              \n",
       "1960  0.162455  0.082435  0.074231\n",
       "1970  0.155409  0.078710  0.064729\n",
       "1980  0.237300  0.077163  0.059458\n",
       "1990  0.349195  0.126991  0.064975\n",
       "2000  0.391913  0.178445  0.096804\n",
       "2001  0.399740  0.176937  0.094608\n",
       "2002  0.396965  0.180455  0.101137\n",
       "2003  0.407330  0.180870  0.104794\n",
       "2004  0.410667  0.187378  0.108959\n",
       "2005  0.423207  0.188734  0.115937\n",
       "2006  0.465538  0.215136  0.136077\n",
       "2007  0.477149  0.218490  0.139037\n",
       "2008  0.491056  0.224386  0.148461\n",
       "2009  0.514549  0.228925  0.153554\n",
       "2010  0.523711  0.233811  0.158537\n",
       "2011  0.536362  0.237807  0.163155\n",
       "2012  0.547199  0.243212  0.162832"
      ]
     },
     "metadata": {},
     "output_type": "display_data"
    }
   ],
   "source": [
    "all_men = men[['all_2534','all_3544','all_4554']]\n",
    "all_men.style.set_caption('Hombres casados')\n",
    "all_women = women[['all_2534','all_3544','all_4554']]\n",
    "all_women.style.set_caption('Mujeres casadas')\n"
   ]
  },
  {
   "cell_type": "code",
   "execution_count": 54,
   "metadata": {},
   "outputs": [
    {
     "name": "stderr",
     "output_type": "stream",
     "text": [
      "C:\\Users\\Dea\\Documents\\anaconda\\lib\\site-packages\\matplotlib\\cbook\\__init__.py:2062: FutureWarning: Support for multi-dimensional indexing (e.g. `obj[:, None]`) is deprecated and will be removed in a future version.  Convert to a numpy array before indexing instead.\n",
      "  x[:, None]\n",
      "C:\\Users\\Dea\\Documents\\anaconda\\lib\\site-packages\\matplotlib\\axes\\_base.py:248: FutureWarning: Support for multi-dimensional indexing (e.g. `obj[:, None]`) is deprecated and will be removed in a future version.  Convert to a numpy array before indexing instead.\n",
      "  x = x[:, np.newaxis]\n",
      "C:\\Users\\Dea\\Documents\\anaconda\\lib\\site-packages\\matplotlib\\axes\\_base.py:250: FutureWarning: Support for multi-dimensional indexing (e.g. `obj[:, None]`) is deprecated and will be removed in a future version.  Convert to a numpy array before indexing instead.\n",
      "  y = y[:, np.newaxis]\n"
     ]
    },
    {
     "data": {
      "image/png": "[encoded data removed]",
      "text/plain": [
       "<Figure size 432x288 with 1 Axes>"
      ]
     },
     "metadata": {},
     "output_type": "display_data"
    }
   ],
   "source": [
    "fig = plt.figure()\n",
    "\n",
    "for frame in [all_women, all_men]:\n",
    "    plt.plot(frame['all_2534'], frame['all_3544'])\n",
    "    \n",
    "plt.show()\n"
   ]
  },
  {
   "cell_type": "code",
   "execution_count": null,
   "metadata": {},
   "outputs": [],
   "source": []
  }
 ],
 "metadata": {
  "kernelspec": {
   "display_name": "Python 3",
   "language": "python",
   "name": "python3"
  },
  "language_info": {
   "codemirror_mode": {
    "name": "ipython",
    "version": 3
   },
   "file_extension": ".py",
   "mimetype": "text/x-python",
   "name": "python",
   "nbconvert_exporter": "python",
   "pygments_lexer": "ipython3",
   "version": "3.6.5"
  }
 },
 "nbformat": 4,
 "nbformat_minor": 2
}
