{
 "cells": [
  {
   "cell_type": "markdown",
   "metadata": {},
   "source": [
    "# Pre-machine learning"
   ]
  },
  {
   "cell_type": "markdown",
   "metadata": {},
   "source": [
    "# Likelihood - Método metrópolis\n",
    "\n",
    "Usando los mismos datos anteriores ahora intentaremos encontrar la recta más acercada con el método de metrópolis"
   ]
  },
  {
   "cell_type": "code",
   "execution_count": 1,
   "metadata": {},
   "outputs": [
    {
     "name": "stdout",
     "output_type": "stream",
     "text": [
      "Once deleted, variables cannot be recovered. Proceed (y/[n])? y\n"
     ]
    }
   ],
   "source": [
    "%reset"
   ]
  },
  {
   "cell_type": "code",
   "execution_count": 2,
   "metadata": {},
   "outputs": [],
   "source": [
    "import numpy as np\n",
    "import pandas as pd\n",
    "import math as m\n",
    "import matplotlib.pyplot as plt\n",
    "import pickle\n",
    "import matplotlib.colors as mcolors"
   ]
  },
  {
   "cell_type": "code",
   "execution_count": 3,
   "metadata": {},
   "outputs": [],
   "source": [
    "\n",
    "data = np.load('fit_exercise.npy') \n",
    "#data\n",
    "\n",
    "x = data[0,:]      #primer renglón\n",
    "#print(x)\n",
    "x_avrg = x.mean\n",
    "y = data[1,:]      #segundo renglón\n",
    "y_err = data[2,:]  #tercer renglón\n",
    "n = len(x)"
   ]
  },
  {
   "cell_type": "code",
   "execution_count": 4,
   "metadata": {},
   "outputs": [],
   "source": [
    "#datos proporcionados por la maestra, son 3 columnas, x, y, error de y\n",
    "#La columna \"error de y\" nos servirá para la distribución chi^2\n",
    "\n",
    "#data = np.loadtxt('data_gaussiano.dat') \n",
    "#data\n",
    "\n",
    "#DesvEst = 3\n",
    "#mean = x.mean()\n",
    "\n",
    "#x = data[0,:]\n",
    "#y = data[1,:]\n",
    "\n",
    "#print(len(x))\n",
    "#print(y)\n",
    "\n",
    "#n = len(x) #Tamaño de  nuestros vectores\n",
    "\n",
    "#x_avrg = x.mean() \n",
    "#y_bar = y.mean()"
   ]
  },
  {
   "cell_type": "code",
   "execution_count": 5,
   "metadata": {},
   "outputs": [
    {
     "data": {
      "image/png": "[encoded data removed]",
      "text/plain": [
       "<Figure size 432x288 with 1 Axes>"
      ]
     },
     "metadata": {},
     "output_type": "display_data"
    },
    {
     "data": {
      "image/png": "[encoded data removed]",
      "text/plain": [
       "<Figure size 432x288 with 1 Axes>"
      ]
     },
     "metadata": {},
     "output_type": "display_data"
    },
    {
     "data": {
      "image/png": "[encoded data removed]",
      "text/plain": [
       "<Figure size 432x288 with 1 Axes>"
      ]
     },
     "metadata": {},
     "output_type": "display_data"
    }
   ],
   "source": [
    "a = 30 #numero de barras para el histograma\n",
    "plt.hist(x,a,color ='forestgreen')\n",
    "plt.ylabel('no. de muestras')\n",
    "plt.title('histograma de x')\n",
    "plt.show()\n",
    "\n",
    "plt.hist(y,a)\n",
    "plt.ylabel('no. de muestras')\n",
    "plt.title('histograma de y')\n",
    "plt.show()\n",
    "\n",
    "plt.plot(x,y,'o',color = 'indianred')\n",
    "plt.title('y vs x')\n",
    "plt.ylabel('y')\n",
    "plt.xlabel('x')\n",
    "plt.show()"
   ]
  },
  {
   "cell_type": "code",
   "execution_count": 6,
   "metadata": {},
   "outputs": [],
   "source": [
    "#definimos la función con la que aproximaremos nuestro likelihood, en este caso es una func. gaussiana\n",
    "# def f(x,DesviacionEstandar,xAverage):\n",
    "#     f = 1\n",
    "#     n = len(x)\n",
    "#     A = (2*np.pi*DesviacionEstandar)**(-1/2) #constante\n",
    "#     for i in range(n):\n",
    "#         f = A*f*(np.exp(-(1/(2*(DesviacionEstandar**2)))*(x[i] + xAverage)**2))\n",
    "#     return f\n",
    "\n",
    "\"\"\"definimos la función con la que aproximaremos nuestro likelihood, en este caso es una func. lineal\"\"\"\n",
    "\n",
    "def f(x,pendiente,cte):\n",
    "    f = pendiente*x + cte\n",
    "    return f\n",
    "\n",
    "\"\"\"definimos una función para el likelihood\"\"\"\n",
    "def LogLikelihood(x,pendiente,cte,y,DesviacionEstandar):\n",
    "    LogL=0\n",
    "    n = len(x)\n",
    "    for i in range(n):\n",
    "        LogL = LogL + ((y[i] - f(x[i],pendiente,cte))**2)/(2*((DesviacionEstandar[i])**2)) #+(n/2)*np.log(2*np.pi*(DesviacionEstandar[i])**2)\n",
    "    return LogL\n"
   ]
  },
  {
   "cell_type": "code",
   "execution_count": 7,
   "metadata": {},
   "outputs": [],
   "source": [
    "\"\"\"Vamos a definir una función en la que nosotros vamos a definir la probabilidad de encontrar nuestros\n",
    "datos en un intervalo específico (en base l plot de x vs y)\"\"\"\n",
    "\n",
    "\"\"\"La probabilidad (Prior de m) de encontrar a m en cierto intervalo\"\"\"\n",
    "\n",
    "def Prior_m(pendiente):\n",
    "    m_min = -1\n",
    "    m_max = -0.2\n",
    "    if m_min<= pendiente and pendiente<= m_max:\n",
    "        Pm = 1/(m_max-m_min)\n",
    "    else:\n",
    "        Pm = 0\n",
    "    return Pm\n",
    "\n",
    "\"\"\"La probabilidad (Prior de b) de encontrar a b en cierto intervalo\"\"\" \n",
    "\n",
    "def Prior_b(cte):\n",
    "    b_min = 2\n",
    "    b_max = 5\n",
    "    if b_min<= cte and cte <= b_max:\n",
    "        Pb = 1/(b_max-b_min)\n",
    "    else:\n",
    "        Pb = 0\n",
    "    return Pb"
   ]
  },
  {
   "cell_type": "code",
   "execution_count": 8,
   "metadata": {},
   "outputs": [
    {
     "data": {
      "text/plain": [
       "0"
      ]
     },
     "execution_count": 8,
     "metadata": {},
     "output_type": "execute_result"
    }
   ],
   "source": [
    "Prior_m(0)"
   ]
  },
  {
   "cell_type": "code",
   "execution_count": 9,
   "metadata": {},
   "outputs": [],
   "source": [
    "def Post(m_n,b_n,x,y,sigma):\n",
    "    LogPos = (Prior_m(m_n))*(Prior_b(b_n))*np.exp(LogLikelihood(x,m_n,b_n,y,sigma))\n",
    "    return LogPos"
   ]
  },
  {
   "cell_type": "code",
   "execution_count": 10,
   "metadata": {
    "scrolled": false
   },
   "outputs": [
    {
     "name": "stderr",
     "output_type": "stream",
     "text": [
      "C:\\Users\\Dea\\Documents\\anaconda\\lib\\site-packages\\ipykernel_launcher.py:2: RuntimeWarning: overflow encountered in exp\n",
      "  \n",
      "C:\\Users\\Dea\\Documents\\anaconda\\lib\\site-packages\\ipykernel_launcher.py:2: RuntimeWarning: invalid value encountered in double_scalars\n",
      "  \n"
     ]
    },
    {
     "name": "stdout",
     "output_type": "stream",
     "text": [
      "m =  1.0612550273532528\n",
      "b =  1.400460930521851\n"
     ]
    },
    {
     "data": {
      "text/plain": [
       "Text(0,0.5,'b')"
      ]
     },
     "execution_count": 10,
     "metadata": {},
     "output_type": "execute_result"
    },
    {
     "data": {
      "image/png": "[encoded data removed]",
      "text/plain": [
       "<Figure size 432x288 with 1 Axes>"
      ]
     },
     "metadata": {},
     "output_type": "display_data"
    }
   ],
   "source": [
    "\"\"\"Aquí vamos a comenzar a hacer iteraciones de los valores de m y de b para encontrar el que se acerque más a la línea ideal.\n",
    "Para esto comenzaremos en los 'm' y 'b' que fijamos anteriormente y le añadiremos un valor ALEATORIO hacia el cual\n",
    "se pueda mover de manera que se acerque a la solución más acertada\"\"\"\n",
    "n_pasos = 3000 #número de iteraciones que vamos a realizar nuestro experimento-\n",
    "#delta = 1\n",
    "m_v = 1\n",
    "b_v = 1\n",
    "Post_v = Post(m_v,b_v,x,y,y_err)\n",
    "\n",
    "mb = np.zeros([n_pasos + 1,2])\n",
    "mb[0] = [m_v,b_v]\n",
    "\n",
    "counting = 0\n",
    "for i in range(1,n_pasos):\n",
    "    m_rnd = np.random.normal(m_v,0.2)  #m aleatorios\n",
    "    b_rnd = np.random.normal(b_v,0.2)  #b aleatorios\n",
    "    #el 0.5 es para que también nos den número negativos\n",
    "    \n",
    "    m_n = m_rnd  #aquí guardamos moentáneamente 'm'\n",
    "    b_n = b_rnd #aquí guardamos moentáneamente 'b'\n",
    "    \n",
    "    Post_n = Post(m_n,b_n,x,y,y_err)\n",
    "    #print(Post_n)\n",
    "    mb[i+1] = [m_n,b_n]\n",
    "    \n",
    "    if Post_n > Post_v: #comparamos si el likelihood nuevo es mayor al viejo\n",
    "        \n",
    "        \"\"\"Reevaluamos los valores de nuestras constantes\"\"\"\n",
    "        \n",
    "        Post_v = np.copy(Post_n)\n",
    "        m_v = np.copy(m_n)\n",
    "        b_v = np.copy(b_n)\n",
    "        #print('nuevo Posterior viejo',Post_v)\n",
    "        #counting = counting+1\n",
    "        \n",
    "        \n",
    "        \n",
    "    elif Post_n/Post_v > np.random.rand():\n",
    "        Post_v = np.copy(Post_n)\n",
    "        m_v = np.copy(m_n)\n",
    "        b_v = np.copy(b_n)\n",
    "        #print('nuevo Posterior viejo',Post_v)\n",
    "        counting = counting+1\n",
    "        \n",
    "        #plt.plot(m_n,b_n,'o')\n",
    "        #plt.xlabel('m')\n",
    "        #plt.ylabel('b')\n",
    "        \n",
    "        #print('m = ',m_n)\n",
    "        #print('b = ',b_n)    \n",
    "        \n",
    "print('m = ',m_n)\n",
    "print('b = ',b_n)    \n",
    "#print('número de iteraciones1:',counting)\n",
    "plt.plot(mb[:,0],mb[:,1],'.', color = 'olive')\n",
    "plt.xlabel('m')\n",
    "plt.ylabel('b')"
   ]
  },
  {
   "cell_type": "code",
   "execution_count": 11,
   "metadata": {},
   "outputs": [
    {
     "data": {
      "text/plain": [
       "<matplotlib.legend.Legend at 0x1e650e092b0>"
      ]
     },
     "execution_count": 11,
     "metadata": {},
     "output_type": "execute_result"
    },
    {
     "data": {
      "image/png": "[encoded data removed]",
      "text/plain": [
       "<Figure size 432x288 with 1 Axes>"
      ]
     },
     "metadata": {},
     "output_type": "display_data"
    }
   ],
   "source": [
    "plt.hist(mb[:,0],30, color = 'indianred', edgecolor = 'k', label = 'm')\n",
    "plt.hist(mb[:,1],30, color = 'tan', edgecolor = 'k', label = 'b')\n",
    "plt.legend()"
   ]
  },
  {
   "cell_type": "code",
   "execution_count": 12,
   "metadata": {},
   "outputs": [
    {
     "data": {
      "text/plain": [
       "[<matplotlib.lines.Line2D at 0x1e650e2f400>]"
      ]
     },
     "execution_count": 12,
     "metadata": {},
     "output_type": "execute_result"
    },
    {
     "data": {
      "image/png": "[encoded data removed]",
      "text/plain": [
       "<Figure size 432x288 with 1 Axes>"
      ]
     },
     "metadata": {},
     "output_type": "display_data"
    }
   ],
   "source": [
    "plt.plot(x,y,'o')\n",
    "plt.plot(x,f(x,m_n,b_n))"
   ]
  },
  {
   "cell_type": "code",
   "execution_count": 13,
   "metadata": {},
   "outputs": [
    {
     "name": "stdout",
     "output_type": "stream",
     "text": [
      "valor real de m: -0.9821623517930425\n",
      "valor real de b: 4.5778593037533595\n"
     ]
    }
   ],
   "source": [
    "print('valor real de m:',  -0.9821623517930425)\n",
    "print('valor real de b:', 4.5778593037533595)"
   ]
  }
 ],
 "metadata": {
  "kernelspec": {
   "display_name": "Python 3",
   "language": "python",
   "name": "python3"
  },
  "language_info": {
   "codemirror_mode": {
    "name": "ipython",
    "version": 3
   },
   "file_extension": ".py",
   "mimetype": "text/x-python",
   "name": "python",
   "nbconvert_exporter": "python",
   "pygments_lexer": "ipython3",
   "version": "3.6.5"
  }
 },
 "nbformat": 4,
 "nbformat_minor": 2
}
