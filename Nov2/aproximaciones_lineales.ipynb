{
 "cells": [
  {
   "cell_type": "markdown",
   "metadata": {},
   "source": [
    "# Pre-machine learning"
   ]
  },
  {
   "cell_type": "code",
   "execution_count": 1,
   "metadata": {},
   "outputs": [],
   "source": [
    "#%reset"
   ]
  },
  {
   "cell_type": "markdown",
   "metadata": {},
   "source": [
    "Comenzamos con una serie pequeña de datos proporcionados por la maestra. Nuestro objetivo es que de un connjunto de datos obtengamos una linealización de nuestros datos."
   ]
  },
  {
   "cell_type": "code",
   "execution_count": 2,
   "metadata": {},
   "outputs": [],
   "source": [
    "import numpy as np\n",
    "import pandas as pd\n",
    "import matplotlib.pyplot as plt\n",
    "#from mpl_toolkits import mplot3d\n",
    "#from mpl_toolkits.mplot3d import Axes3D"
   ]
  },
  {
   "cell_type": "code",
   "execution_count": 3,
   "metadata": {},
   "outputs": [],
   "source": [
    "#datos proporcionados por la maestra, son 3 columnas, x, y, error de y\n",
    "#La columna \"error de y\" nos servirá para la distribución chi^2\n",
    "\n",
    "data = np.load('test_line.npy') \n",
    "#data"
   ]
  },
  {
   "cell_type": "code",
   "execution_count": 4,
   "metadata": {},
   "outputs": [],
   "source": [
    "x1 = data[0,:] #primer renglón\n",
    "y1 = data[1,:] #segundo renglón\n",
    "y1_err = data[2,:] #tercer renglón\n",
    "n1 = len(x1) #Tamaño de  nuestros vectores\n",
    "x1_bar = x1.mean() \n",
    "y1_bar = y1.mean()\n"
   ]
  },
  {
   "cell_type": "markdown",
   "metadata": {},
   "source": [
    "# Regresión lineal\n",
    "\n",
    "Tenemos la ecuación simple y general de la regresión lineal dada por\n",
    "\n",
    "$Y = b0 + b1*x$\n",
    "\n",
    "se llama regresión lineal por obvias razones, tenemos una ecuación lineal.\n",
    "La forma de obtener los coeficientes b0 y b1 están dados en la página: https://es.wikipedia.org/wiki/Regresi%C3%B3n_lineal\n",
    "\n",
    "$b1 = SUM_i(x_i - mean(x))(y_i - mean(y))/ (SUM_j (x_j - mean(x))^2 )$\n",
    "\n",
    "$b0 = mean(y) - b1*mean(x)$"
   ]
  },
  {
   "cell_type": "code",
   "execution_count": 5,
   "metadata": {},
   "outputs": [],
   "source": [
    "var1 = 0\n",
    "b1 = 0\n",
    "\n",
    "for i in range(n1):\n",
    "    var1 = (x1[i] - x1_bar)**2 + var1\n",
    "    \n",
    "#print(var)"
   ]
  },
  {
   "cell_type": "code",
   "execution_count": 6,
   "metadata": {},
   "outputs": [
    {
     "name": "stdout",
     "output_type": "stream",
     "text": [
      "la pendiente es: 30.762307652444484\n"
     ]
    }
   ],
   "source": [
    "for i in range(n1):\n",
    "    b1 = (x1[i] - x1_bar)*(y1[i] - y1_bar) + b1\n",
    "    \n",
    "b2 = b1/var1    \n",
    "          \n",
    "print('la pendiente es:',b2)"
   ]
  },
  {
   "cell_type": "code",
   "execution_count": 7,
   "metadata": {},
   "outputs": [
    {
     "data": {
      "text/plain": [
       "199.34272404405513"
      ]
     },
     "execution_count": 7,
     "metadata": {},
     "output_type": "execute_result"
    }
   ],
   "source": [
    "b0 = y1_bar - b2*x1_bar\n",
    "b0"
   ]
  },
  {
   "cell_type": "code",
   "execution_count": 8,
   "metadata": {},
   "outputs": [],
   "source": [
    "X1 = np.arange(0,x1.max(),0.01)\n",
    "Y1= b0 + b2*X1"
   ]
  },
  {
   "cell_type": "code",
   "execution_count": 9,
   "metadata": {},
   "outputs": [
    {
     "data": {
      "text/plain": [
       "[<matplotlib.lines.Line2D at 0x1c1e2d3cb00>]"
      ]
     },
     "execution_count": 9,
     "metadata": {},
     "output_type": "execute_result"
    },
    {
     "data": {
      "image/png": "[encoded data removed]",
      "text/plain": [
       "<Figure size 432x288 with 1 Axes>"
      ]
     },
     "metadata": {},
     "output_type": "display_data"
    }
   ],
   "source": [
    "plt.plot(x1,y1,'o')\n",
    "plt.plot(X1,Y1,'-')"
   ]
  }
 ],
 "metadata": {
  "kernelspec": {
   "display_name": "Python 3",
   "language": "python",
   "name": "python3"
  },
  "language_info": {
   "codemirror_mode": {
    "name": "ipython",
    "version": 3
   },
   "file_extension": ".py",
   "mimetype": "text/x-python",
   "name": "python",
   "nbconvert_exporter": "python",
   "pygments_lexer": "ipython3",
   "version": "3.6.5"
  }
 },
 "nbformat": 4,
 "nbformat_minor": 2
}
